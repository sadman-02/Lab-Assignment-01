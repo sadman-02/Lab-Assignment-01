{
  "nbformat": 4,
  "nbformat_minor": 0,
  "metadata": {
    "colab": {
      "provenance": [],
      "authorship_tag": "ABX9TyMArXJrgmv7sqnb4Mw6fWSZ",
      "include_colab_link": true
    },
    "kernelspec": {
      "name": "python3",
      "display_name": "Python 3"
    },
    "language_info": {
      "name": "python"
    }
  },
  "cells": [
    {
      "cell_type": "markdown",
      "metadata": {
        "id": "view-in-github",
        "colab_type": "text"
      },
      "source": [
        "<a href=\"https://colab.research.google.com/github/sadman-02/Lab-Assignment-01/blob/main/SML_Assignment_2.ipynb\" target=\"_parent\"><img src=\"https://colab.research.google.com/assets/colab-badge.svg\" alt=\"Open In Colab\"/></a>"
      ]
    },
    {
      "cell_type": "markdown",
      "source": [
        "**Question**-Use numpy to create a 3×3 matrix of random integers between 1 and 50.  \n",
        "  Run the code twice.\n",
        "\n",
        "  With a fixed seed (`np.random.seed(10)`) to ensure reproducibility.  \n",
        "  \n",
        "  Without setting a seed, allowing random values to change each time."
      ],
      "metadata": {
        "id": "FMqXDe6f4-kp"
      }
    },
    {
      "cell_type": "code",
      "source": [
        "import numpy as np"
      ],
      "metadata": {
        "id": "FLG8Nx512Wi3"
      },
      "execution_count": 4,
      "outputs": []
    },
    {
      "cell_type": "code",
      "source": [
        "np.random.seed(10)\n",
        "matrix_with_seed = np.random.randint(1, 50, size=(3, 3))\n",
        "print(\"Matrix with seed:\\n\", matrix_with_seed)\n",
        "\n",
        "\n",
        "matrix_without_seed = np.random.randint(1, 50, size=(3, 3))\n",
        "\n",
        "print(\"\\nMatrix without seed:\\n\", matrix_without_seed)"
      ],
      "metadata": {
        "colab": {
          "base_uri": "https://localhost:8080/"
        },
        "id": "JKt5q5Ky4rF_",
        "outputId": "c3a3b87c-14ad-4d58-c9a5-e325138f227f"
      },
      "execution_count": 7,
      "outputs": [
        {
          "output_type": "stream",
          "name": "stdout",
          "text": [
            "Matrix with seed:\n",
            " [[10 37 16]\n",
            " [ 1 29 26]\n",
            " [30 49 30]]\n",
            "\n",
            "Matrix without seed:\n",
            " [[ 9 10  1]\n",
            " [43 41 37]\n",
            " [17 37 48]]\n"
          ]
        }
      ]
    },
    {
      "cell_type": "markdown",
      "source": [
        "1. **Matrix with Seed** : Our setting of `np.random.seed(10)` ensures that the **Matrix with Seed** remains constant.  \n",
        "2. **Matrix without Seed** : Since no seed is set, it is always different.  \n",
        "\n",
        "The basic rule is as follows: Seed = Fixed Random Numbers.  \n",
        "No Seed = Every time, new random numbers are generated."
      ],
      "metadata": {
        "id": "FJ-OIVNA7OVL"
      }
    }
  ]
}